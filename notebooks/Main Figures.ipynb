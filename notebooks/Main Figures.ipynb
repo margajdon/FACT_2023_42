{
 "cells": [
  {
   "cell_type": "code",
   "execution_count": null,
   "id": "dated-entity",
   "metadata": {},
   "outputs": [],
   "source": [
    "import numpy as np\n",
    "import pandas as pd\n",
    "import matplotlib.pyplot as plt\n",
    "import sklearn.metrics\n",
    "import seaborn as sns\n",
    "\n",
    "from approaches import baseline, cluster_methods, oracle\n",
    "from approaches_ftc import ftc\n",
    "from approaches_agenda import agenda"
   ]
  },
  {
   "cell_type": "code",
   "execution_count": null,
   "id": "packed-parking",
   "metadata": {},
   "outputs": [],
   "source": [
    "legend_fontsize = 14\n",
    "title_fontsize = 18\n",
    "label_fontsize = 16\n",
    "ticks_fontsize = 14"
   ]
  },
  {
   "cell_type": "code",
   "execution_count": null,
   "id": "boxed-redhead",
   "metadata": {},
   "outputs": [],
   "source": [
    "db = pd.read_csv('data/rfw/rfw.csv')\n",
    "dataset_name = 'rfw'\n",
    "feature = 'facenet'\n",
    "calibration_method = 'beta'\n",
    "nbins = 25\n",
    "n_clusters = 100"
   ]
  },
  {
   "cell_type": "code",
   "execution_count": null,
   "id": "african-pledge",
   "metadata": {},
   "outputs": [],
   "source": [
    "subgroups = {'ethnicity': ['African', 'Asian', 'Caucasian', 'Indian']}\n",
    "sensitive_attributes = {'ethnicity': ['ethnicity', 'ethnicity']}\n",
    "fold = 5"
   ]
  },
  {
   "cell_type": "code",
   "execution_count": null,
   "id": "quality-lyric",
   "metadata": {},
   "outputs": [],
   "source": [
    "features = ['facenet-webface']"
   ]
  },
  {
   "cell_type": "code",
   "execution_count": null,
   "id": "continuing-wisconsin",
   "metadata": {},
   "outputs": [],
   "source": [
    "title_features = {\n",
    "    'facenet':'FaceNet (VGGFace2)',\n",
    "    'facenet-webface':'FaceNet (Webface)',\n",
    "    'arcface': 'ArcFace'}"
   ]
  },
  {
   "cell_type": "code",
   "execution_count": null,
   "id": "surrounded-receptor",
   "metadata": {},
   "outputs": [],
   "source": [
    "title_methods = {\n",
    "    'naive': 'Baseline',\n",
    "    'fsn': 'FSN [36]',\n",
    "    'faircal': 'Faircal (Ours)',\n",
    "    'oracle': 'Oracle'\n",
    "}"
   ]
  },
  {
   "cell_type": "code",
   "execution_count": null,
   "id": "backed-jacket",
   "metadata": {},
   "outputs": [],
   "source": [
    "db_fold = {'cal': db[db['fold'] != fold], 'test': db[db['fold'] == fold]}"
   ]
  },
  {
   "cell_type": "code",
   "execution_count": null,
   "id": "invalid-stephen",
   "metadata": {},
   "outputs": [],
   "source": [
    "scores = {}\n",
    "confidences = {}\n",
    "for feature in features:\n",
    "    scores[feature] = {}\n",
    "    confidences[feature] = {}\n",
    "ground_truth = {}\n",
    "subgroup_scores = {}\n",
    "for dataset in ['cal', 'test']:\n",
    "    for feature in features:\n",
    "        scores[feature][dataset] = np.array(db_fold[dataset][feature])\n",
    "    ground_truth[dataset] = np.array(db_fold[dataset]['same'])\n",
    "    subgroup_scores[dataset] = {}\n",
    "    for att in subgroups.keys():\n",
    "        subgroup_scores[dataset][att] = {}\n",
    "        subgroup_scores[dataset][att]['left'] = np.array(db_fold[dataset][sensitive_attributes[att][0]])\n",
    "        subgroup_scores[dataset][att]['right'] = np.array(db_fold[dataset][sensitive_attributes[att][1]])\n"
   ]
  },
  {
   "cell_type": "code",
   "execution_count": null,
   "id": "southwest-lexington",
   "metadata": {},
   "outputs": [],
   "source": [
    "for feature in features:\n",
    "    confidences[feature]['baseline'] = baseline(scores[feature], ground_truth, nbins, calibration_method)\n",
    "    confidences[feature]['oracle'] = oracle(scores[feature], ground_truth, subgroup_scores, subgroups, nbins, calibration_method)"
   ]
  },
  {
   "cell_type": "code",
   "execution_count": null,
   "id": "equipped-conference",
   "metadata": {},
   "outputs": [],
   "source": [
    "for feature in features:\n",
    "    _, _, confidences[feature]['bmc'], cluster_settings = cluster_methods(\n",
    "                nbins,\n",
    "                calibration_method,\n",
    "                dataset_name,\n",
    "                feature,\n",
    "                fold,\n",
    "                db_fold,\n",
    "                100,\n",
    "                False,\n",
    "                0\n",
    "            )"
   ]
  },
  {
   "cell_type": "code",
   "execution_count": null,
   "id": "judicial-compound",
   "metadata": {},
   "outputs": [],
   "source": [
    "for feature in features:\n",
    "    _, _, confidences[feature]['fsn'], cluster_settings = cluster_methods(\n",
    "                nbins,\n",
    "                calibration_method,\n",
    "                dataset_name,\n",
    "                feature,\n",
    "                fold,\n",
    "                db_fold,\n",
    "                100,\n",
    "                True,\n",
    "                1e-3\n",
    "            )"
   ]
  },
  {
   "cell_type": "code",
   "execution_count": null,
   "id": "synthetic-matthew",
   "metadata": {},
   "outputs": [],
   "source": [
    "for feature in features:\n",
    "    _, confidences[feature]['ftc'], _ = ftc(dataset_name, feature, db_fold, nbins, calibration_method)"
   ]
  },
  {
   "cell_type": "code",
   "execution_count": null,
   "id": "familiar-chapter",
   "metadata": {},
   "outputs": [],
   "source": [
    "for feature in features:\n",
    "    _, confidences[feature]['agenda'], _, _, _ = agenda(dataset_name, feature, db_fold, nbins, calibration_method)"
   ]
  },
  {
   "cell_type": "code",
   "execution_count": null,
   "id": "hybrid-rolling",
   "metadata": {},
   "outputs": [],
   "source": [
    "db_fold['test']['baseline'] = confidences['facenet-webface']['baseline']['test']\n",
    "db_fold['test']['oracle'] = confidences['facenet-webface']['oracle']['test']['ethnicity']\n",
    "db_fold['test']['fsn'] = confidences['facenet-webface']['fsn']['test']\n",
    "db_fold['test']['ftc'] = confidences['facenet-webface']['ftc']['test']\n",
    "db_fold['test']['agenda'] = confidences['facenet-webface']['agenda']['test']\n",
    "db_fold['test']['bmc'] = confidences['facenet-webface']['bmc']['test']"
   ]
  },
  {
   "cell_type": "code",
   "execution_count": null,
   "id": "suspected-worthy",
   "metadata": {},
   "outputs": [],
   "source": [
    "legend_fontsize = 18\n",
    "title_fontsize = 24\n",
    "label_fontsize = 20\n",
    "ticks_fontsize = 18"
   ]
  },
  {
   "cell_type": "code",
   "execution_count": null,
   "id": "impossible-citation",
   "metadata": {},
   "outputs": [],
   "source": [
    "subgroups = ['African', 'Asian', 'Caucasian', 'Indian']\n",
    "title_columns = ['Baseline', 'Baseline+Calibration', 'Oracle Calibration', 'FairCal (Ours)']\n",
    "columns = ['facenet-webface','baseline','oracle', 'bmc']\n",
    "fig, axes = plt.subplots(1,len(columns),figsize=(20,5), sharey=True)\n",
    "\n",
    "# creating a dictionary with one specific color per group:\n",
    "my_pal = {\"Genuine\": \"royalblue\", \"Imposter\": \"skyblue\"}\n",
    "fpr_subgroup = {}\n",
    "for i_aux, aux in enumerate(columns):\n",
    "    sns.violinplot(\n",
    "    x ='ethnicity',\n",
    "    hue=\"pair\",\n",
    "    y=aux,\n",
    "    split=True,\n",
    "    data=db_fold['test'],\n",
    "    scale=\"count\",\n",
    "    inner=\"quartile\",\n",
    "    ax = axes[i_aux],\n",
    "    order=subgroups,\n",
    "    palette=my_pal\n",
    ")\n",
    "    axes[i_aux].legend(loc = 'lower right', fontsize=legend_fontsize)\n",
    "    axes[i_aux].set_xlabel('Ethnicity', fontsize=label_fontsize)\n",
    "    axes[i_aux].set_title(title_columns[i_aux], fontsize=title_fontsize)\n",
    "    if i_aux == 0:\n",
    "        axes[i_aux].set_ylabel('Cosine Similarity Score', fontsize=label_fontsize)\n",
    "    else:\n",
    "        axes[i_aux].set_ylabel('Probability', fontsize=label_fontsize)\n",
    "    labels = [item.get_text() for item in axes[i_aux].get_yticklabels()]\n",
    "    empty_string_labels = ['']*len(labels)\n",
    "    axes[i_aux].set_yticklabels(empty_string_labels)\n",
    "\n",
    "    axes[i_aux].tick_params(axis='x', labelsize=ticks_fontsize-2)\n",
    "\n",
    "    global_fpr,global_tpr,global_thr = sklearn.metrics.roc_curve(\n",
    "            y_true = ground_truth['test'],\n",
    "            y_score = db_fold['test'][aux],\n",
    "            drop_intermediate=False,\n",
    "            pos_label = True)\n",
    "    \n",
    "    axes[i_aux].axhline(global_thr[np.argmin(np.abs(global_fpr-0.05))],\n",
    "                    ls='-',\n",
    "                    linewidth=2,\n",
    "                    alpha = 1,\n",
    "                    c='black')\n",
    "    fpr_subgroup[aux] = {}\n",
    "    for j, subgroup in enumerate(subgroups):\n",
    "        select = subgroup_scores['test']['ethnicity']['left'] == subgroup\n",
    "        fpr,tpr,thr = sklearn.metrics.roc_curve(\n",
    "            y_true = ground_truth['test'][select],\n",
    "            y_score = db_fold['test'][aux][select],\n",
    "            drop_intermediate=False,\n",
    "            pos_label = True)\n",
    "        axes[i_aux].hlines(y = thr[np.argmin(np.abs(fpr-0.05))],\n",
    "                       ls='-',\n",
    "                       color='crimson',\n",
    "                       linewidth=3,\n",
    "                       xmin =j-0.5,\n",
    "                       xmax = j+1-0.5)\n",
    "        fpr_subgroup[aux][j] = 100*fpr[np.argmin(np.abs(thr-np.interp(0.05,global_fpr,global_thr)))]\n",
    "        print(\"%s - %s FPR = %1.3f\"%(title_columns[i_aux], subgroup, fpr_subgroup[aux][j]))\n",
    "fig.tight_layout()\n",
    "plt.savefig('figs_iclr/facenet-webface_score_distributions_fpr_thresholds.png', bbox_inches='tight')"
   ]
  },
  {
   "cell_type": "code",
   "execution_count": null,
   "id": "arranged-champion",
   "metadata": {},
   "outputs": [],
   "source": [
    "\n",
    "feature = 'facenet-webface'\n",
    "metrics = {'aad': {}, 'mad': {}, 'std': {}}\n",
    "subgroups = ['African', 'Asian', 'Indian', 'Caucasian']\n",
    "title_columns = ['Baseline', 'AGENDA','FTC', 'FSN', 'FairCal (Ours)']\n",
    "columns = ['facenet-webface','agenda', 'ftc', 'fsn','bmc']\n",
    "fig, axes = plt.subplots(1,len(columns),figsize=(20,5), sharey=True)\n",
    "for i_aux,aux in enumerate(columns):\n",
    "    global_fpr,global_tpr,global_thr = sklearn.metrics.roc_curve(\n",
    "            y_true = ground_truth['test'],\n",
    "            y_score = db_fold['test'][aux],\n",
    "            drop_intermediate=False,\n",
    "            pos_label = True)\n",
    "    fpr_subgroup[aux] = np.zeros(len(subgroups))\n",
    "    for j, subgroup in enumerate(subgroups):\n",
    "        select = subgroup_scores['test']['ethnicity']['left'] == subgroup\n",
    "        fpr,tpr,thr = sklearn.metrics.roc_curve(\n",
    "            y_true = ground_truth['test'][select],\n",
    "            y_score = db_fold['test'][aux][select],\n",
    "            drop_intermediate=False,\n",
    "            pos_label = True)\n",
    "        axes[i_aux].plot(np.interp(thr,global_thr[::-1],global_fpr[::-1]),fpr, linewidth=2)\n",
    "        fpr_subgroup[aux][j] = 100*fpr[np.argmin(np.abs(thr-np.interp(0.05,global_fpr,global_thr)))]\n",
    "        print('%s %s - %1.1f'%(title_columns[i_aux],subgroup, fpr_subgroup[aux][j]))\n",
    "    metrics['aad'][aux] = np.mean(np.abs(fpr_subgroup[aux]-np.mean(fpr_subgroup[aux])))\n",
    "    metrics['mad'][aux] = np.max(np.abs(fpr_subgroup[aux]-np.mean(fpr_subgroup[aux])))\n",
    "    metrics['std'][aux] = np.std(fpr_subgroup[aux])\n",
    "    # print('AAD = %1.2f'%metrics['aad']['bmc'])\n",
    "    # print('MAD = %1.2f'%metrics['mad']['bmc'])\n",
    "    # print('STD = %1.2f'%metrics['std']['bmc'])\n",
    "    axes[i_aux].plot([0.05, 0.05],[0,1],'--k',linewidth=2)\n",
    "    axes[i_aux].legend(subgroups,loc = 'upper left')\n",
    "    axes[i_aux].set_xticks([0,0.02,0.04,0.06,0.08,0.1])\n",
    "    axes[i_aux].set_xlim(0,0.1)\n",
    "    axes[i_aux].set_ylim(0,0.18)\n",
    "    axes[i_aux].set_title(title_columns[i_aux], fontsize=title_fontsize)\n",
    "    axes[i_aux].set_xlabel('Global FPR', fontsize=title_fontsize)\n",
    "    if i_aux == 0:\n",
    "        axes[i_aux].set_ylabel('False Positive Rate', fontsize=title_fontsize)\n",
    "    axes[i_aux].tick_params(axis='both', which='major', labelsize=ticks_fontsize)\n",
    "fig.tight_layout()\n",
    "plt.savefig('figs_iclr/facenet-webface_thr_vs_fpr.png', bbox_inches='tight')"
   ]
  },
  {
   "cell_type": "code",
   "execution_count": null,
   "id": "powerful-focus",
   "metadata": {},
   "outputs": [],
   "source": []
  },
  {
   "cell_type": "code",
   "execution_count": null,
   "id": "precious-suffering",
   "metadata": {},
   "outputs": [],
   "source": []
  },
  {
   "cell_type": "code",
   "execution_count": null,
   "id": "other-duplicate",
   "metadata": {},
   "outputs": [],
   "source": []
  }
 ],
 "metadata": {
  "kernelspec": {
   "display_name": "Python 3 (ipykernel)",
   "language": "python",
   "name": "python3"
  },
  "language_info": {
   "codemirror_mode": {
    "name": "ipython",
    "version": 3
   },
   "file_extension": ".py",
   "mimetype": "text/x-python",
   "name": "python",
   "nbconvert_exporter": "python",
   "pygments_lexer": "ipython3",
   "version": "3.9.13"
  },
  "vscode": {
   "interpreter": {
    "hash": "38bfd7062c2e40c254718556666e4422f04be01044787720715af94b520c2c5e"
   }
  }
 },
 "nbformat": 4,
 "nbformat_minor": 5
}
