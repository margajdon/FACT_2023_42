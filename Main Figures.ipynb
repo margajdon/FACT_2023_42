{
 "cells": [
  {
   "cell_type": "markdown",
   "id": "c3d18cc3",
   "metadata": {},
   "source": [
    "# Fairness plots and violin plots"
   ]
  },
  {
   "cell_type": "markdown",
   "id": "6fb06aee",
   "metadata": {},
   "source": [
    "### Importing"
   ]
  },
  {
   "cell_type": "code",
   "execution_count": 23,
   "id": "56022ce2",
   "metadata": {},
   "outputs": [
    {
     "name": "stdout",
     "output_type": "stream",
     "text": [
      "Requirement already satisfied: cvxpy in /Users/milenakapralova/opt/anaconda3/envs/progLab/lib/python3.9/site-packages (1.3.0)\r\n",
      "Requirement already satisfied: ecos>=2 in /Users/milenakapralova/opt/anaconda3/envs/progLab/lib/python3.9/site-packages (from cvxpy) (2.0.12)\r\n",
      "Requirement already satisfied: scs>=1.1.6 in /Users/milenakapralova/opt/anaconda3/envs/progLab/lib/python3.9/site-packages (from cvxpy) (3.2.2)\r\n",
      "Requirement already satisfied: numpy>=1.15 in /Users/milenakapralova/opt/anaconda3/envs/progLab/lib/python3.9/site-packages (from cvxpy) (1.23.1)\r\n",
      "Requirement already satisfied: setuptools<=64.0.2 in /Users/milenakapralova/opt/anaconda3/envs/progLab/lib/python3.9/site-packages (from cvxpy) (64.0.2)\r\n",
      "Requirement already satisfied: scipy>=1.1.0 in /Users/milenakapralova/opt/anaconda3/envs/progLab/lib/python3.9/site-packages (from cvxpy) (1.9.1)\r\n",
      "Requirement already satisfied: osqp>=0.4.1 in /Users/milenakapralova/opt/anaconda3/envs/progLab/lib/python3.9/site-packages (from cvxpy) (0.6.2.post8)\r\n",
      "Requirement already satisfied: qdldl in /Users/milenakapralova/opt/anaconda3/envs/progLab/lib/python3.9/site-packages (from osqp>=0.4.1->cvxpy) (0.1.5.post3)\r\n"
     ]
    }
   ],
   "source": [
    "!pip install cvxpy"
   ]
  },
  {
   "cell_type": "code",
   "execution_count": 104,
   "id": "845bddf8",
   "metadata": {},
   "outputs": [],
   "source": [
    "import numpy as np\n",
    "import pandas as pd\n",
    "import matplotlib.pyplot as plt\n",
    "import sklearn.metrics\n",
    "import seaborn as sns\n",
    "import pickle\n",
    "\n",
    "from approaches import baseline, cluster_methods, oracle\n",
    "from approaches_ftc import ftc\n",
    "from approaches_agenda import agenda"
   ]
  },
  {
   "cell_type": "code",
   "execution_count": 4,
   "id": "packed-parking",
   "metadata": {},
   "outputs": [],
   "source": [
    "legend_fontsize = 14\n",
    "title_fontsize = 18\n",
    "label_fontsize = 16\n",
    "ticks_fontsize = 14"
   ]
  },
  {
   "cell_type": "code",
   "execution_count": 5,
   "id": "boxed-redhead",
   "metadata": {},
   "outputs": [],
   "source": [
    "db = pd.read_csv('data/rfw/rfw_w_sims.csv')\n",
    "dataset_name = 'rfw'\n",
    "feature = 'facenet'\n",
    "calibration_method = 'beta'\n",
    "nbins = 25\n",
    "n_clusters = 100"
   ]
  },
  {
   "cell_type": "code",
   "execution_count": 10,
   "id": "5d11dd45",
   "metadata": {},
   "outputs": [
    {
     "data": {
      "text/html": [
       "<div>\n",
       "<style scoped>\n",
       "    .dataframe tbody tr th:only-of-type {\n",
       "        vertical-align: middle;\n",
       "    }\n",
       "\n",
       "    .dataframe tbody tr th {\n",
       "        vertical-align: top;\n",
       "    }\n",
       "\n",
       "    .dataframe thead th {\n",
       "        text-align: right;\n",
       "    }\n",
       "</style>\n",
       "<table border=\"1\" class=\"dataframe\">\n",
       "  <thead>\n",
       "    <tr style=\"text-align: right;\">\n",
       "      <th></th>\n",
       "      <th>Unnamed: 0.2</th>\n",
       "      <th>Unnamed: 0.1</th>\n",
       "      <th>Unnamed: 0</th>\n",
       "      <th>id1</th>\n",
       "      <th>num1</th>\n",
       "      <th>id2</th>\n",
       "      <th>num2</th>\n",
       "      <th>ethnicity</th>\n",
       "      <th>pair</th>\n",
       "      <th>same</th>\n",
       "      <th>fold</th>\n",
       "      <th>facenet</th>\n",
       "      <th>facenet-webface</th>\n",
       "      <th>arcface</th>\n",
       "    </tr>\n",
       "  </thead>\n",
       "  <tbody>\n",
       "    <tr>\n",
       "      <th>0</th>\n",
       "      <td>0</td>\n",
       "      <td>0</td>\n",
       "      <td>0</td>\n",
       "      <td>m.0g5ty_</td>\n",
       "      <td>1</td>\n",
       "      <td>m.0g5ty_</td>\n",
       "      <td>2</td>\n",
       "      <td>African</td>\n",
       "      <td>Genuine</td>\n",
       "      <td>True</td>\n",
       "      <td>0</td>\n",
       "      <td>0.733062</td>\n",
       "      <td>0.610138</td>\n",
       "      <td>NaN</td>\n",
       "    </tr>\n",
       "    <tr>\n",
       "      <th>1</th>\n",
       "      <td>1</td>\n",
       "      <td>1</td>\n",
       "      <td>1</td>\n",
       "      <td>m.05q5bqf</td>\n",
       "      <td>2</td>\n",
       "      <td>m.05q5bqf</td>\n",
       "      <td>3</td>\n",
       "      <td>African</td>\n",
       "      <td>Genuine</td>\n",
       "      <td>True</td>\n",
       "      <td>0</td>\n",
       "      <td>0.656041</td>\n",
       "      <td>0.536733</td>\n",
       "      <td>NaN</td>\n",
       "    </tr>\n",
       "    <tr>\n",
       "      <th>2</th>\n",
       "      <td>2</td>\n",
       "      <td>2</td>\n",
       "      <td>2</td>\n",
       "      <td>m.03yfnz5</td>\n",
       "      <td>2</td>\n",
       "      <td>m.03yfnz5</td>\n",
       "      <td>1</td>\n",
       "      <td>African</td>\n",
       "      <td>Genuine</td>\n",
       "      <td>True</td>\n",
       "      <td>0</td>\n",
       "      <td>0.624838</td>\n",
       "      <td>0.631015</td>\n",
       "      <td>NaN</td>\n",
       "    </tr>\n",
       "    <tr>\n",
       "      <th>3</th>\n",
       "      <td>3</td>\n",
       "      <td>3</td>\n",
       "      <td>3</td>\n",
       "      <td>m.03npynb</td>\n",
       "      <td>2</td>\n",
       "      <td>m.03npynb</td>\n",
       "      <td>3</td>\n",
       "      <td>African</td>\n",
       "      <td>Genuine</td>\n",
       "      <td>True</td>\n",
       "      <td>0</td>\n",
       "      <td>0.635635</td>\n",
       "      <td>0.593042</td>\n",
       "      <td>NaN</td>\n",
       "    </tr>\n",
       "    <tr>\n",
       "      <th>4</th>\n",
       "      <td>4</td>\n",
       "      <td>4</td>\n",
       "      <td>4</td>\n",
       "      <td>m.0h1f_hh</td>\n",
       "      <td>1</td>\n",
       "      <td>m.0h1f_hh</td>\n",
       "      <td>3</td>\n",
       "      <td>African</td>\n",
       "      <td>Genuine</td>\n",
       "      <td>True</td>\n",
       "      <td>0</td>\n",
       "      <td>0.788073</td>\n",
       "      <td>0.695494</td>\n",
       "      <td>NaN</td>\n",
       "    </tr>\n",
       "  </tbody>\n",
       "</table>\n",
       "</div>"
      ],
      "text/plain": [
       "   Unnamed: 0.2  Unnamed: 0.1  Unnamed: 0        id1  num1        id2  num2  \\\n",
       "0             0             0           0   m.0g5ty_     1   m.0g5ty_     2   \n",
       "1             1             1           1  m.05q5bqf     2  m.05q5bqf     3   \n",
       "2             2             2           2  m.03yfnz5     2  m.03yfnz5     1   \n",
       "3             3             3           3  m.03npynb     2  m.03npynb     3   \n",
       "4             4             4           4  m.0h1f_hh     1  m.0h1f_hh     3   \n",
       "\n",
       "  ethnicity     pair  same  fold   facenet  facenet-webface  arcface  \n",
       "0   African  Genuine  True     0  0.733062         0.610138      NaN  \n",
       "1   African  Genuine  True     0  0.656041         0.536733      NaN  \n",
       "2   African  Genuine  True     0  0.624838         0.631015      NaN  \n",
       "3   African  Genuine  True     0  0.635635         0.593042      NaN  \n",
       "4   African  Genuine  True     0  0.788073         0.695494      NaN  "
      ]
     },
     "metadata": {},
     "output_type": "display_data"
    }
   ],
   "source": [
    "display(db.head())"
   ]
  },
  {
   "cell_type": "code",
   "execution_count": 6,
   "id": "african-pledge",
   "metadata": {},
   "outputs": [],
   "source": [
    "subgroups = {'ethnicity': ['African', 'Asian', 'Caucasian', 'Indian']}\n",
    "sensitive_attributes = {'ethnicity': ['ethnicity', 'ethnicity']}\n",
    "fold = 5"
   ]
  },
  {
   "cell_type": "code",
   "execution_count": 7,
   "id": "quality-lyric",
   "metadata": {},
   "outputs": [],
   "source": [
    "features = ['facenet-webface']"
   ]
  },
  {
   "cell_type": "code",
   "execution_count": 8,
   "id": "continuing-wisconsin",
   "metadata": {},
   "outputs": [],
   "source": [
    "title_features = {\n",
    "    'facenet':'FaceNet (VGGFace2)',\n",
    "    'facenet-webface':'FaceNet (Webface)',\n",
    "    'arcface': 'ArcFace'}"
   ]
  },
  {
   "cell_type": "code",
   "execution_count": 9,
   "id": "surrounded-receptor",
   "metadata": {},
   "outputs": [],
   "source": [
    "title_methods = {\n",
    "    'naive': 'Baseline',\n",
    "    'fsn': 'FSN [36]',\n",
    "    'faircal': 'Faircal (Ours)',\n",
    "    'oracle': 'Oracle'\n",
    "}"
   ]
  },
  {
   "cell_type": "code",
   "execution_count": 11,
   "id": "backed-jacket",
   "metadata": {},
   "outputs": [],
   "source": [
    "db_fold = {'cal': db[db['fold'] != fold], 'test': db[db['fold'] == fold]}"
   ]
  },
  {
   "cell_type": "code",
   "execution_count": 129,
   "id": "0a0b0c10",
   "metadata": {},
   "outputs": [
    {
     "name": "stdout",
     "output_type": "stream",
     "text": [
      "{'cal':        Unnamed: 0.2  Unnamed: 0.1  Unnamed: 0        id1  num1        id2  \\\n",
      "0                 0             0           0   m.0g5ty_     1   m.0g5ty_   \n",
      "1                 1             1           1  m.05q5bqf     2  m.05q5bqf   \n",
      "2                 2             2           2  m.03yfnz5     2  m.03yfnz5   \n",
      "3                 3             3           3  m.03npynb     2  m.03npynb   \n",
      "4                 4             4           4  m.0h1f_hh     1  m.0h1f_hh   \n",
      "...             ...           ...         ...        ...   ...        ...   \n",
      "23995         23995         23995       23995  m.0gb_yjt     2  m.05p6bss   \n",
      "23996         23996         23996       23996   m.01qhc8     1  m.01wv0z3   \n",
      "23997         23997         23997       23997   m.03w3mt     2  m.02qgh9z   \n",
      "23998         23998         23998       23998   m.0674cw     4  m.09rv9x_   \n",
      "23999         23999         23999       23999   m.03zd_s     2   m.070pyk   \n",
      "\n",
      "       num2 ethnicity       pair   same  fold   facenet  facenet-webface  \\\n",
      "0         2   African    Genuine   True     0  0.733062         0.610138   \n",
      "1         3   African    Genuine   True     0  0.656041         0.536733   \n",
      "2         1   African    Genuine   True     0  0.624838         0.631015   \n",
      "3         3   African    Genuine   True     0  0.635635         0.593042   \n",
      "4         3   African    Genuine   True     0  0.788073         0.695494   \n",
      "...     ...       ...        ...    ...   ...       ...              ...   \n",
      "23995     1    Indian  Ungenuine  False     9       NaN              NaN   \n",
      "23996     2    Indian  Ungenuine  False     9       NaN              NaN   \n",
      "23997     3    Indian  Ungenuine  False     9       NaN              NaN   \n",
      "23998     1    Indian  Ungenuine  False     9       NaN              NaN   \n",
      "23999     1    Indian  Ungenuine  False     9       NaN              NaN   \n",
      "\n",
      "       arcface  \n",
      "0          NaN  \n",
      "1          NaN  \n",
      "2          NaN  \n",
      "3          NaN  \n",
      "4          NaN  \n",
      "...        ...  \n",
      "23995      NaN  \n",
      "23996      NaN  \n",
      "23997      NaN  \n",
      "23998      NaN  \n",
      "23999      NaN  \n",
      "\n",
      "[21600 rows x 14 columns], 'test':        Unnamed: 0.2  Unnamed: 0.1  Unnamed: 0        id1  num1        id2  \\\n",
      "3000           3000          3000        3000   m.0bwh6b     3   m.0bwh6b   \n",
      "3001           3001          3001        3001  m.01wf_f3     1  m.01wf_f3   \n",
      "3002           3002          3002        3002  m.03f7dxh     3  m.03f7dxh   \n",
      "3003           3003          3003        3003   m.04rlb8     3   m.04rlb8   \n",
      "3004           3004          3004        3004   m.0c7nfp     2   m.0c7nfp   \n",
      "...             ...           ...         ...        ...   ...        ...   \n",
      "21595         21595         21595       21595    m.0krsd     3  m.04jfczz   \n",
      "21596         21596         21596       21596  m.027bp7c     3   m.0744sc   \n",
      "21597         21597         21597       21597  m.04yb7nl     1   m.02s6mz   \n",
      "21598         21598         21598       21598  m.02qhg7v     2  m.0gf8pjf   \n",
      "21599         21599         21599       21599  m.0gc950n     1  m.0n9mwwx   \n",
      "\n",
      "       num2 ethnicity      pair   same  fold   facenet  facenet-webface  \\\n",
      "3000      1   African   Genuine   True     5  0.489396         0.557251   \n",
      "3001      2   African   Genuine   True     5  0.638067         0.676269   \n",
      "3002      1   African   Genuine   True     5  0.635793         0.559813   \n",
      "3003      2   African   Genuine   True     5  0.649419         0.671417   \n",
      "3004      1   African   Genuine   True     5  0.780262         0.624518   \n",
      "...     ...       ...       ...    ...   ...       ...              ...   \n",
      "21595     3    Indian  Imposter  False     5  0.625739         0.556313   \n",
      "21596     2    Indian  Imposter  False     5  0.755362         0.651050   \n",
      "21597     4    Indian  Imposter  False     5  0.853708         0.667508   \n",
      "21598     4    Indian  Imposter  False     5  0.867926         0.712725   \n",
      "21599     1    Indian  Imposter  False     5  0.619119         0.410438   \n",
      "\n",
      "       arcface  baseline    oracle  \n",
      "3000       NaN  0.620900  0.668993  \n",
      "3001       NaN  0.790662  0.899398  \n",
      "3002       NaN  0.624546  0.675067  \n",
      "3003       NaN  0.784027  0.892822  \n",
      "3004       NaN  0.717799  0.815516  \n",
      "...        ...       ...       ...  \n",
      "21595      NaN  0.619566  0.574766  \n",
      "21596      NaN  0.755657  0.663902  \n",
      "21597      NaN  0.778643  0.680419  \n",
      "21598      NaN  0.838483  0.727165  \n",
      "21599      NaN  0.431776  0.458291  \n",
      "\n",
      "[2400 rows x 16 columns]}\n"
     ]
    }
   ],
   "source": [
    "print(db_fold)"
   ]
  },
  {
   "cell_type": "markdown",
   "id": "b5bdbe62",
   "metadata": {},
   "source": [
    "### Getting dictionaries for cosine similarities (float), confidence scores (empty), ground truth labels (boolean) and subgroup scores (ethnicity)"
   ]
  },
  {
   "cell_type": "code",
   "execution_count": 95,
   "id": "invalid-stephen",
   "metadata": {},
   "outputs": [],
   "source": [
    "scores = {}\n",
    "confidences = {}\n",
    "for feature in features:\n",
    "    scores[feature] = {}\n",
    "    confidences[feature] = {}\n",
    "ground_truth = {}\n",
    "subgroup_scores = {}\n",
    "for dataset in ['cal', 'test']:\n",
    "    for feature in features:\n",
    "        scores[feature][dataset] = np.array(db_fold[dataset][feature])\n",
    "    ground_truth[dataset] = np.array(db_fold[dataset]['same'])\n",
    "    subgroup_scores[dataset] = {}\n",
    "    for att in subgroups.keys():\n",
    "        subgroup_scores[dataset][att] = {}\n",
    "        subgroup_scores[dataset][att]['left'] = np.array(db_fold[dataset][sensitive_attributes[att][0]])\n",
    "        subgroup_scores[dataset][att]['right'] = np.array(db_fold[dataset][sensitive_attributes[att][1]])"
   ]
  },
  {
   "cell_type": "code",
   "execution_count": 96,
   "id": "4ed77b76",
   "metadata": {},
   "outputs": [
    {
     "name": "stdout",
     "output_type": "stream",
     "text": [
      "Cosine sims: {'facenet-webface': {'cal': array([0.61013806, 0.536733  , 0.6310155 , ...,        nan,        nan,\n",
      "              nan]), 'test': array([0.55725074, 0.6762695 , 0.5598125 , ..., 0.667508  , 0.7127251 ,\n",
      "       0.41043848])}}\n",
      "\n",
      "Confidences: {'facenet-webface': {}}\n",
      "\n",
      "Ground truth: {'cal': array([ True,  True,  True, ..., False, False, False]), 'test': array([ True,  True,  True, ..., False, False, False])}\n",
      "\n",
      "Subgroup scores: {'cal': {'ethnicity': {'left': array(['African', 'African', 'African', ..., 'Indian', 'Indian', 'Indian'],\n",
      "      dtype=object), 'right': array(['African', 'African', 'African', ..., 'Indian', 'Indian', 'Indian'],\n",
      "      dtype=object)}}, 'test': {'ethnicity': {'left': array(['African', 'African', 'African', ..., 'Indian', 'Indian', 'Indian'],\n",
      "      dtype=object), 'right': array(['African', 'African', 'African', ..., 'Indian', 'Indian', 'Indian'],\n",
      "      dtype=object)}}}\n",
      "\n"
     ]
    }
   ],
   "source": [
    "print(f'Cosine sims: {scores}\\n')\n",
    "print(f'Confidences: {confidences}\\n')\n",
    "print(f'Ground truth: {ground_truth}\\n')\n",
    "print(f'Subgroup scores: {subgroup_scores}\\n')"
   ]
  },
  {
   "cell_type": "markdown",
   "id": "d65c5b31",
   "metadata": {},
   "source": [
    "### Checking the size of the entries"
   ]
  },
  {
   "cell_type": "code",
   "execution_count": 97,
   "id": "96734894",
   "metadata": {},
   "outputs": [
    {
     "name": "stdout",
     "output_type": "stream",
     "text": [
      "Cosine similarity: 21600 (cal), 2400 (test)\n",
      "\n",
      "Ground truth: 21600 (cal), 2400 (test)\n",
      "\n",
      "Subgroup scores: 21600 (left), 21600 (right)"
     ]
    }
   ],
   "source": [
    "print('Cosine similarity:', end = ' ')\n",
    "print(len(scores[feature]['cal']), end = ' (cal), ')\n",
    "print(len(scores[feature]['test']), end = ' (test)\\n\\n')\n",
    "\n",
    "print('Ground truth:', end = ' ')\n",
    "print(len(ground_truth['cal']), end = ' (cal), ')\n",
    "print(len(ground_truth['test']), end = ' (test)\\n\\n')\n",
    "\n",
    "print('Subgroup scores:', end = ' ')\n",
    "print(len(subgroup_scores['cal']['ethnicity']['left']), end = ' (left), ')\n",
    "print(len(subgroup_scores['cal']['ethnicity']['right']), end = ' (right)')"
   ]
  },
  {
   "cell_type": "markdown",
   "id": "e490f4fb",
   "metadata": {},
   "source": [
    "### Drop missing values"
   ]
  },
  {
   "cell_type": "code",
   "execution_count": 98,
   "id": "6c2ece33",
   "metadata": {},
   "outputs": [],
   "source": [
    "indices = np.isnan(scores[feature]['cal']) == False\n",
    "scores[feature]['cal'] = scores[feature]['cal'][np.logical_not(np.isnan(scores[feature]['cal']))]\n",
    "ground_truth['cal'] = ground_truth['cal'][indices]\n",
    "subgroup_scores['cal']['ethnicity']['left'] = subgroup_scores['cal']['ethnicity']['left'][indices]\n",
    "subgroup_scores['cal']['ethnicity']['right'] = subgroup_scores['cal']['ethnicity']['right'][indices]"
   ]
  },
  {
   "cell_type": "code",
   "execution_count": 99,
   "id": "southwest-lexington",
   "metadata": {},
   "outputs": [],
   "source": [
    "for feature in features:\n",
    "    confidences[feature]['baseline'] = baseline(scores[feature], ground_truth, nbins, calibration_method)\n",
    "    confidences[feature]['oracle'] = oracle(scores[feature], ground_truth, subgroup_scores, subgroups, nbins, calibration_method)"
   ]
  },
  {
   "cell_type": "markdown",
   "id": "02ddf1bb",
   "metadata": {},
   "source": [
    "### Loading the embeddings"
   ]
  },
  {
   "cell_type": "code",
   "execution_count": 130,
   "id": "f2ea2be3",
   "metadata": {},
   "outputs": [],
   "source": [
    "embedding_data = pickle.load(open(f'embeddings/{feature}_{dataset_name}_embeddings.pk', 'rb'))\n",
    "\n",
    "if dataset_name == 'bfw':\n",
    "    embedding_data['img_path'] = embedding_data['img_path'].apply(lambda x: x.replace('data/bfw/bfw-cropped-aligned/', ''))\n",
    "if dataset_name == 'rfw':\n",
    "    embedding_data['img_path'] = embedding_data['img_path'].apply(lambda x: x.replace('data/rfw/data/', ''))"
   ]
  },
  {
   "cell_type": "code",
   "execution_count": 131,
   "id": "40fbbe32",
   "metadata": {},
   "outputs": [
    {
     "name": "stdout",
     "output_type": "stream",
     "text": [
      "    category    person       image_id                              img_path  \\\n",
      "0  Caucasian  m.0cl9kh  m.0cl9kh_0001  Caucasian/m.0cl9kh/m.0cl9kh_0001.jpg   \n",
      "1  Caucasian  m.0cl9kh  m.0cl9kh_0003  Caucasian/m.0cl9kh/m.0cl9kh_0003.jpg   \n",
      "2  Caucasian  m.0cl9kh  m.0cl9kh_0004  Caucasian/m.0cl9kh/m.0cl9kh_0004.jpg   \n",
      "3  Caucasian  m.0cl9kh  m.0cl9kh_0002  Caucasian/m.0cl9kh/m.0cl9kh_0002.jpg   \n",
      "4  Caucasian  m.0cl9kh  m.0cl9kh_0005  Caucasian/m.0cl9kh/m.0cl9kh_0005.jpg   \n",
      "\n",
      "                                           embedding  \n",
      "0  [-0.07362084, -0.032686774, -0.023440572, -0.0...  \n",
      "1  [-0.04244986, -0.001834187, -0.0017889304, -0....  \n",
      "2  [-0.04558669, 0.016659236, -0.011350209, -0.00...  \n",
      "3  [-0.076317206, 0.010774781, -0.03565117, -0.00...  \n",
      "4  [-0.018754296, 0.0010367417, -0.0026780085, 0....  \n"
     ]
    }
   ],
   "source": [
    "print(embedding_data.head())"
   ]
  },
  {
   "cell_type": "code",
   "execution_count": 132,
   "id": "fd3639a7",
   "metadata": {},
   "outputs": [
    {
     "name": "stdout",
     "output_type": "stream",
     "text": [
      "facenet-webface\n"
     ]
    }
   ],
   "source": [
    "print(feature)"
   ]
  },
  {
   "cell_type": "code",
   "execution_count": null,
   "id": "21883bb7",
   "metadata": {},
   "outputs": [],
   "source": []
  },
  {
   "cell_type": "code",
   "execution_count": 133,
   "id": "equipped-conference",
   "metadata": {},
   "outputs": [
    {
     "name": "stdout",
     "output_type": "stream",
     "text": [
      "kmeans took 473.70771884918213\n"
     ]
    },
    {
     "ename": "FileNotFoundError",
     "evalue": "[Errno 2] No such file or directory: 'data/rfw/African_facenet-webface_embeddings.pickle'",
     "output_type": "error",
     "traceback": [
      "\u001b[0;31m---------------------------------------------------------------------------\u001b[0m",
      "\u001b[0;31mFileNotFoundError\u001b[0m                         Traceback (most recent call last)",
      "Cell \u001b[0;32mIn[133], line 2\u001b[0m\n\u001b[1;32m      1\u001b[0m \u001b[38;5;28;01mfor\u001b[39;00m feature \u001b[38;5;129;01min\u001b[39;00m features:\n\u001b[0;32m----> 2\u001b[0m     _, _, confidences[feature][\u001b[38;5;124m'\u001b[39m\u001b[38;5;124mfaircal\u001b[39m\u001b[38;5;124m'\u001b[39m], cluster_settings \u001b[38;5;241m=\u001b[39m \u001b[43mcluster_methods\u001b[49m\u001b[43m(\u001b[49m\n\u001b[1;32m      3\u001b[0m \u001b[43m                \u001b[49m\u001b[43mnbins\u001b[49m\u001b[43m,\u001b[49m\n\u001b[1;32m      4\u001b[0m \u001b[43m                \u001b[49m\u001b[43mcalibration_method\u001b[49m\u001b[43m,\u001b[49m\n\u001b[1;32m      5\u001b[0m \u001b[43m                \u001b[49m\u001b[43mdataset_name\u001b[49m\u001b[43m,\u001b[49m\n\u001b[1;32m      6\u001b[0m \u001b[43m                \u001b[49m\u001b[43mfeature\u001b[49m\u001b[43m,\u001b[49m\n\u001b[1;32m      7\u001b[0m \u001b[43m                \u001b[49m\u001b[43mfold\u001b[49m\u001b[43m,\u001b[49m\n\u001b[1;32m      8\u001b[0m \u001b[43m                \u001b[49m\u001b[43mdb_fold\u001b[49m\u001b[43m,\u001b[49m\n\u001b[1;32m      9\u001b[0m \u001b[43m                \u001b[49m\u001b[38;5;241;43m100\u001b[39;49m\u001b[43m,\u001b[49m\n\u001b[1;32m     10\u001b[0m \u001b[43m                \u001b[49m\u001b[38;5;28;43;01mFalse\u001b[39;49;00m\u001b[43m,\u001b[49m\n\u001b[1;32m     11\u001b[0m \u001b[43m                \u001b[49m\u001b[38;5;241;43m0\u001b[39;49m\u001b[43m,\u001b[49m\n\u001b[1;32m     12\u001b[0m \u001b[43m                \u001b[49m\u001b[43membedding_data\u001b[49m\n\u001b[1;32m     13\u001b[0m \u001b[43m            \u001b[49m\u001b[43m)\u001b[49m\n",
      "File \u001b[0;32m~/Documents/FACT/faircal/code/approaches.py:85\u001b[0m, in \u001b[0;36mcluster_methods\u001b[0;34m(nbins, calibration_method, dataset_name, feature, fold, db_fold, n_clusters, score_normalization, fpr, embedding_data)\u001b[0m\n\u001b[1;32m     83\u001b[0m start \u001b[38;5;241m=\u001b[39m time\u001b[38;5;241m.\u001b[39mtime()\n\u001b[1;32m     84\u001b[0m \u001b[38;5;28;01mif\u001b[39;00m dataset_name \u001b[38;5;241m==\u001b[39m \u001b[38;5;124m'\u001b[39m\u001b[38;5;124mrfw\u001b[39m\u001b[38;5;124m'\u001b[39m:\n\u001b[0;32m---> 85\u001b[0m     r \u001b[38;5;241m=\u001b[39m \u001b[43mcollect_miscellania_rfw\u001b[49m\u001b[43m(\u001b[49m\u001b[43mn_clusters\u001b[49m\u001b[43m,\u001b[49m\u001b[43m \u001b[49m\u001b[43mfeature\u001b[49m\u001b[43m,\u001b[49m\u001b[43m \u001b[49m\u001b[43mkmeans\u001b[49m\u001b[43m,\u001b[49m\u001b[43m \u001b[49m\u001b[43mdb_fold\u001b[49m\u001b[43m)\u001b[49m\n\u001b[1;32m     86\u001b[0m \u001b[38;5;28;01melif\u001b[39;00m \u001b[38;5;124m'\u001b[39m\u001b[38;5;124mbfw\u001b[39m\u001b[38;5;124m'\u001b[39m \u001b[38;5;129;01min\u001b[39;00m dataset_name:\n\u001b[1;32m     87\u001b[0m     r \u001b[38;5;241m=\u001b[39m collect_miscellania_bfw(n_clusters, feature, kmeans, db_fold, embedding_data)\n",
      "File \u001b[0;32m~/Documents/FACT/faircal/code/approaches.py:247\u001b[0m, in \u001b[0;36mcollect_miscellania_rfw\u001b[0;34m(n_clusters, feature, kmeans, db_fold)\u001b[0m\n\u001b[1;32m    244\u001b[0m subgroup \u001b[38;5;241m=\u001b[39m db[\u001b[38;5;124m'\u001b[39m\u001b[38;5;124methnicity\u001b[39m\u001b[38;5;124m'\u001b[39m]\u001b[38;5;241m.\u001b[39miloc[i]\n\u001b[1;32m    245\u001b[0m \u001b[38;5;28;01mif\u001b[39;00m subgroup \u001b[38;5;241m!=\u001b[39m subgroup_old:\n\u001b[1;32m    246\u001b[0m     temp \u001b[38;5;241m=\u001b[39m pickle\u001b[38;5;241m.\u001b[39mload(\n\u001b[0;32m--> 247\u001b[0m         \u001b[38;5;28;43mopen\u001b[39;49m\u001b[43m(\u001b[49m\u001b[38;5;124;43m'\u001b[39;49m\u001b[38;5;124;43mdata/rfw/\u001b[39;49m\u001b[38;5;124;43m'\u001b[39;49m\u001b[43m \u001b[49m\u001b[38;5;241;43m+\u001b[39;49m\u001b[43m \u001b[49m\u001b[43msubgroup\u001b[49m\u001b[43m \u001b[49m\u001b[38;5;241;43m+\u001b[39;49m\u001b[43m \u001b[49m\u001b[38;5;124;43m'\u001b[39;49m\u001b[38;5;124;43m_\u001b[39;49m\u001b[38;5;124;43m'\u001b[39;49m\u001b[43m \u001b[49m\u001b[38;5;241;43m+\u001b[39;49m\u001b[43m \u001b[49m\u001b[43mfeature\u001b[49m\u001b[43m \u001b[49m\u001b[38;5;241;43m+\u001b[39;49m\u001b[43m \u001b[49m\u001b[38;5;124;43m'\u001b[39;49m\u001b[38;5;124;43m_embeddings.pickle\u001b[39;49m\u001b[38;5;124;43m'\u001b[39;49m\u001b[43m,\u001b[49m\u001b[43m \u001b[49m\u001b[38;5;124;43m'\u001b[39;49m\u001b[38;5;124;43mrb\u001b[39;49m\u001b[38;5;124;43m'\u001b[39;49m\u001b[43m)\u001b[49m)\n\u001b[1;32m    248\u001b[0m subgroup_old \u001b[38;5;241m=\u001b[39m subgroup\n\u001b[1;32m    250\u001b[0m t \u001b[38;5;241m=\u001b[39m \u001b[38;5;241m0\u001b[39m\n",
      "\u001b[0;31mFileNotFoundError\u001b[0m: [Errno 2] No such file or directory: 'data/rfw/African_facenet-webface_embeddings.pickle'"
     ]
    }
   ],
   "source": [
    "for feature in features:\n",
    "    _, _, confidences[feature]['faircal'], cluster_settings = cluster_methods(\n",
    "                nbins,\n",
    "                calibration_method,\n",
    "                dataset_name,\n",
    "                feature,\n",
    "                fold,\n",
    "                db_fold,\n",
    "                100,\n",
    "                False,\n",
    "                0,\n",
    "                embedding_data\n",
    "            )"
   ]
  },
  {
   "cell_type": "code",
   "execution_count": null,
   "id": "judicial-compound",
   "metadata": {},
   "outputs": [],
   "source": [
    "for feature in features:\n",
    "    _, _, confidences[feature]['fsn'], cluster_settings = cluster_methods(\n",
    "                nbins,\n",
    "                calibration_method,\n",
    "                dataset_name,\n",
    "                feature,\n",
    "                fold,\n",
    "                db_fold,\n",
    "                100,\n",
    "                True,\n",
    "                1e-3\n",
    "            )"
   ]
  },
  {
   "cell_type": "code",
   "execution_count": null,
   "id": "synthetic-matthew",
   "metadata": {},
   "outputs": [],
   "source": [
    "for feature in features:\n",
    "    _, confidences[feature]['ftc'], _ = ftc(dataset_name, feature, db_fold, nbins, calibration_method)"
   ]
  },
  {
   "cell_type": "code",
   "execution_count": null,
   "id": "familiar-chapter",
   "metadata": {},
   "outputs": [],
   "source": [
    "for feature in features:\n",
    "    _, confidences[feature]['agenda'], _, _, _ = agenda(dataset_name, feature, db_fold, nbins, calibration_method)"
   ]
  },
  {
   "cell_type": "code",
   "execution_count": 114,
   "id": "9c1e9cdf",
   "metadata": {},
   "outputs": [
    {
     "name": "stdout",
     "output_type": "stream",
     "text": [
      "dict_keys(['baseline', 'oracle'])\n"
     ]
    }
   ],
   "source": [
    "print(confidences['facenet-webface'].keys())"
   ]
  },
  {
   "cell_type": "code",
   "execution_count": 115,
   "id": "hybrid-rolling",
   "metadata": {},
   "outputs": [],
   "source": [
    "db_fold['test']['baseline'] = confidences['facenet-webface']['baseline']['test']\n",
    "db_fold['test']['oracle'] = confidences['facenet-webface']['oracle']['test']['ethnicity']\n",
    "# db_fold['test']['fsn'] = confidences['facenet-webface']['fsn']['test']\n",
    "# db_fold['test']['ftc'] = confidences['facenet-webface']['ftc']['test']\n",
    "# db_fold['test']['agenda'] = confidences['facenet-webface']['agenda']['test']\n",
    "# db_fold['test']['faircal'] = confidences['facenet-webface']['faircal']['test']"
   ]
  },
  {
   "cell_type": "code",
   "execution_count": 116,
   "id": "suspected-worthy",
   "metadata": {},
   "outputs": [],
   "source": [
    "legend_fontsize = 18\n",
    "title_fontsize = 24\n",
    "label_fontsize = 20\n",
    "ticks_fontsize = 18"
   ]
  },
  {
   "cell_type": "code",
   "execution_count": 127,
   "id": "ff62c983",
   "metadata": {},
   "outputs": [],
   "source": [
    "db_fold['test']['pair'] = db_fold['test']['pair'].replace('Ungenuine', 'Imposter')"
   ]
  },
  {
   "cell_type": "code",
   "execution_count": 128,
   "id": "impossible-citation",
   "metadata": {
    "scrolled": true
   },
   "outputs": [
    {
     "name": "stdout",
     "output_type": "stream",
     "text": [
      "Baseline - African FPR = 1.667\n",
      "Baseline - Asian FPR = 4.333\n",
      "Baseline - Caucasian FPR = 2.667\n",
      "Baseline - Indian FPR = 11.667\n"
     ]
    },
    {
     "ename": "IndexError",
     "evalue": "list index out of range",
     "output_type": "error",
     "traceback": [
      "\u001b[0;31m---------------------------------------------------------------------------\u001b[0m",
      "\u001b[0;31mIndexError\u001b[0m                                Traceback (most recent call last)",
      "Cell \u001b[0;32mIn[128], line 27\u001b[0m\n\u001b[1;32m     25\u001b[0m axes[i_aux]\u001b[38;5;241m.\u001b[39mlegend(loc \u001b[38;5;241m=\u001b[39m \u001b[38;5;124m'\u001b[39m\u001b[38;5;124mlower right\u001b[39m\u001b[38;5;124m'\u001b[39m, fontsize\u001b[38;5;241m=\u001b[39mlegend_fontsize)\n\u001b[1;32m     26\u001b[0m axes[i_aux]\u001b[38;5;241m.\u001b[39mset_xlabel(\u001b[38;5;124m'\u001b[39m\u001b[38;5;124mEthnicity\u001b[39m\u001b[38;5;124m'\u001b[39m, fontsize\u001b[38;5;241m=\u001b[39mlabel_fontsize)\n\u001b[0;32m---> 27\u001b[0m axes[i_aux]\u001b[38;5;241m.\u001b[39mset_title(\u001b[43mtitle_columns\u001b[49m\u001b[43m[\u001b[49m\u001b[43mi_aux\u001b[49m\u001b[43m]\u001b[49m, fontsize\u001b[38;5;241m=\u001b[39mtitle_fontsize)\n\u001b[1;32m     28\u001b[0m \u001b[38;5;28;01mif\u001b[39;00m i_aux \u001b[38;5;241m==\u001b[39m \u001b[38;5;241m0\u001b[39m:\n\u001b[1;32m     29\u001b[0m     axes[i_aux]\u001b[38;5;241m.\u001b[39mset_ylabel(\u001b[38;5;124m'\u001b[39m\u001b[38;5;124mCosine Similarity Score\u001b[39m\u001b[38;5;124m'\u001b[39m, fontsize\u001b[38;5;241m=\u001b[39mlabel_fontsize)\n",
      "\u001b[0;31mIndexError\u001b[0m: list index out of range"
     ]
    },
    {
     "data": {
      "image/png": "[encoded data removed]",
      "text/plain": [
       "<Figure size 2000x500 with 3 Axes>"
      ]
     },
     "metadata": {},
     "output_type": "display_data"
    }
   ],
   "source": [
    "subgroups = ['African', 'Asian', 'Caucasian', 'Indian']\n",
    "# title_columns = ['Baseline', 'Baseline+Calibration', 'Oracle Calibration', 'FairCal (Ours)']\n",
    "title_columns = ['Baseline']\n",
    "# columns = ['facenet-webface','baseline','oracle', 'bmc']\n",
    "columns = ['facenet-webface','baseline','oracle']\n",
    "\n",
    "fig, axes = plt.subplots(1,len(columns),figsize=(20,5), sharey=True)\n",
    "\n",
    "# creating a dictionary with one specific color per group:\n",
    "my_pal = {\"Genuine\": \"royalblue\", \"Imposter\": \"skyblue\"}\n",
    "fpr_subgroup = {}\n",
    "for i_aux, aux in enumerate(columns):\n",
    "    sns.violinplot(\n",
    "    x ='ethnicity',\n",
    "    hue=\"pair\",\n",
    "    y=aux,\n",
    "    split=True,\n",
    "    data=db_fold['test'],\n",
    "    scale=\"count\",\n",
    "    inner=\"quartile\",\n",
    "    ax = axes[i_aux],\n",
    "    order=subgroups,\n",
    "    palette=my_pal\n",
    ")\n",
    "    axes[i_aux].legend(loc = 'lower right', fontsize=legend_fontsize)\n",
    "    axes[i_aux].set_xlabel('Ethnicity', fontsize=label_fontsize)\n",
    "    axes[i_aux].set_title(title_columns[i_aux], fontsize=title_fontsize)\n",
    "    if i_aux == 0:\n",
    "        axes[i_aux].set_ylabel('Cosine Similarity Score', fontsize=label_fontsize)\n",
    "    else:\n",
    "        axes[i_aux].set_ylabel('Probability', fontsize=label_fontsize)\n",
    "    labels = [item.get_text() for item in axes[i_aux].get_yticklabels()]\n",
    "    empty_string_labels = ['']*len(labels)\n",
    "    axes[i_aux].set_yticklabels(empty_string_labels)\n",
    "\n",
    "    axes[i_aux].tick_params(axis='x', labelsize=ticks_fontsize-2)\n",
    "\n",
    "    global_fpr,global_tpr,global_thr = sklearn.metrics.roc_curve(\n",
    "            y_true = ground_truth['test'],\n",
    "            y_score = db_fold['test'][aux],\n",
    "            drop_intermediate=False,\n",
    "            pos_label = True)\n",
    "    \n",
    "    axes[i_aux].axhline(global_thr[np.argmin(np.abs(global_fpr-0.05))],\n",
    "                    ls='-',\n",
    "                    linewidth=2,\n",
    "                    alpha = 1,\n",
    "                    c='black')\n",
    "    fpr_subgroup[aux] = {}\n",
    "    for j, subgroup in enumerate(subgroups):\n",
    "        select = subgroup_scores['test']['ethnicity']['left'] == subgroup\n",
    "        fpr,tpr,thr = sklearn.metrics.roc_curve(\n",
    "            y_true = ground_truth['test'][select],\n",
    "            y_score = db_fold['test'][aux][select],\n",
    "            drop_intermediate=False,\n",
    "            pos_label = True)\n",
    "        axes[i_aux].hlines(y = thr[np.argmin(np.abs(fpr-0.05))],\n",
    "                       ls='-',\n",
    "                       color='crimson',\n",
    "                       linewidth=3,\n",
    "                       xmin =j-0.5,\n",
    "                       xmax = j+1-0.5)\n",
    "        fpr_subgroup[aux][j] = 100*fpr[np.argmin(np.abs(thr-np.interp(0.05,global_fpr,global_thr)))]\n",
    "        print(\"%s - %s FPR = %1.3f\"%(title_columns[i_aux], subgroup, fpr_subgroup[aux][j]))\n",
    "fig.tight_layout()\n",
    "plt.savefig('figs_iclr/facenet-webface_score_distributions_fpr_thresholds.png', bbox_inches='tight')"
   ]
  },
  {
   "cell_type": "code",
   "execution_count": null,
   "id": "arranged-champion",
   "metadata": {},
   "outputs": [],
   "source": [
    "\n",
    "feature = 'facenet-webface'\n",
    "metrics = {'aad': {}, 'mad': {}, 'std': {}}\n",
    "subgroups = ['African', 'Asian', 'Indian', 'Caucasian']\n",
    "title_columns = ['Baseline', 'AGENDA','FTC', 'FSN', 'FairCal (Ours)']\n",
    "columns = ['facenet-webface','agenda', 'ftc', 'fsn','bmc']\n",
    "fig, axes = plt.subplots(1,len(columns),figsize=(20,5), sharey=True)\n",
    "for i_aux,aux in enumerate(columns):\n",
    "    global_fpr,global_tpr,global_thr = sklearn.metrics.roc_curve(\n",
    "            y_true = ground_truth['test'],\n",
    "            y_score = db_fold['test'][aux],\n",
    "            drop_intermediate=False,\n",
    "            pos_label = True)\n",
    "    fpr_subgroup[aux] = np.zeros(len(subgroups))\n",
    "    for j, subgroup in enumerate(subgroups):\n",
    "        select = subgroup_scores['test']['ethnicity']['left'] == subgroup\n",
    "        fpr,tpr,thr = sklearn.metrics.roc_curve(\n",
    "            y_true = ground_truth['test'][select],\n",
    "            y_score = db_fold['test'][aux][select],\n",
    "            drop_intermediate=False,\n",
    "            pos_label = True)\n",
    "        axes[i_aux].plot(np.interp(thr,global_thr[::-1],global_fpr[::-1]),fpr, linewidth=2)\n",
    "        fpr_subgroup[aux][j] = 100*fpr[np.argmin(np.abs(thr-np.interp(0.05,global_fpr,global_thr)))]\n",
    "        print('%s %s - %1.1f'%(title_columns[i_aux],subgroup, fpr_subgroup[aux][j]))\n",
    "    metrics['aad'][aux] = np.mean(np.abs(fpr_subgroup[aux]-np.mean(fpr_subgroup[aux])))\n",
    "    metrics['mad'][aux] = np.max(np.abs(fpr_subgroup[aux]-np.mean(fpr_subgroup[aux])))\n",
    "    metrics['std'][aux] = np.std(fpr_subgroup[aux])\n",
    "    # print('AAD = %1.2f'%metrics['aad']['bmc'])\n",
    "    # print('MAD = %1.2f'%metrics['mad']['bmc'])\n",
    "    # print('STD = %1.2f'%metrics['std']['bmc'])\n",
    "    axes[i_aux].plot([0.05, 0.05],[0,1],'--k',linewidth=2)\n",
    "    axes[i_aux].legend(subgroups,loc = 'upper left')\n",
    "    axes[i_aux].set_xticks([0,0.02,0.04,0.06,0.08,0.1])\n",
    "    axes[i_aux].set_xlim(0,0.1)\n",
    "    axes[i_aux].set_ylim(0,0.18)\n",
    "    axes[i_aux].set_title(title_columns[i_aux], fontsize=title_fontsize)\n",
    "    axes[i_aux].set_xlabel('Global FPR', fontsize=title_fontsize)\n",
    "    if i_aux == 0:\n",
    "        axes[i_aux].set_ylabel('False Positive Rate', fontsize=title_fontsize)\n",
    "    axes[i_aux].tick_params(axis='both', which='major', labelsize=ticks_fontsize)\n",
    "fig.tight_layout()\n",
    "plt.savefig('figs_iclr/facenet-webface_thr_vs_fpr.png', bbox_inches='tight')"
   ]
  },
  {
   "cell_type": "code",
   "execution_count": null,
   "id": "powerful-focus",
   "metadata": {},
   "outputs": [],
   "source": []
  },
  {
   "cell_type": "code",
   "execution_count": null,
   "id": "precious-suffering",
   "metadata": {},
   "outputs": [],
   "source": []
  },
  {
   "cell_type": "code",
   "execution_count": null,
   "id": "other-duplicate",
   "metadata": {},
   "outputs": [],
   "source": []
  }
 ],
 "metadata": {
  "kernelspec": {
   "display_name": "Python 3 (ipykernel)",
   "language": "python",
   "name": "python3"
  },
  "language_info": {
   "codemirror_mode": {
    "name": "ipython",
    "version": 3
   },
   "file_extension": ".py",
   "mimetype": "text/x-python",
   "name": "python",
   "nbconvert_exporter": "python",
   "pygments_lexer": "ipython3",
   "version": "3.9.13"
  },
  "vscode": {
   "interpreter": {
    "hash": "38bfd7062c2e40c254718556666e4422f04be01044787720715af94b520c2c5e"
   }
  }
 },
 "nbformat": 4,
 "nbformat_minor": 5
}
