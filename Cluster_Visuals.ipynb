{
 "cells": [
  {
   "cell_type": "markdown",
   "id": "c5e21cf9",
   "metadata": {},
   "source": [
    "# Cluster Visualisations for FairCal based on Salvador et al., 2022"
   ]
  },
  {
   "cell_type": "markdown",
   "id": "8571510f",
   "metadata": {},
   "source": [
    "### Imports"
   ]
  },
  {
   "cell_type": "code",
   "execution_count": 2,
   "id": "17c86c4e",
   "metadata": {},
   "outputs": [],
   "source": [
    "import numpy as np\n",
    "import pickle\n",
    "from matplotlib import pyplot as plt\n",
    "from matplotlib import image as mpimg"
   ]
  },
  {
   "cell_type": "markdown",
   "id": "38436d50",
   "metadata": {},
   "source": [
    "### Loading a cluster file"
   ]
  },
  {
   "cell_type": "code",
   "execution_count": 3,
   "id": "3318766f",
   "metadata": {},
   "outputs": [],
   "source": [
    "# def load_clusters(dataset, feature, n_clusters, fold_nr, clustering_method):\n",
    "#     clustering_method = 'clustering_faircal'\n",
    "#     filename = f'experiments/{clustering_method}/{dataset}_{feature}_nclusters{str(n_clusters)}_fold{str(fold_nr)}'\n",
    "#     results = np.load(f'{filename}.npy', allow_pickle=True).item()\n",
    "    \n",
    "#     return results"
   ]
  },
  {
   "cell_type": "code",
   "execution_count": 4,
   "id": "2b00d12c",
   "metadata": {},
   "outputs": [],
   "source": [
    "def load_clusters(dataset, feature, n_clusters, fold_nr, clustering_method):\n",
    "    folder_name = None\n",
    "    print('starting')\n",
    "    if clustering_method == 'kmeans':\n",
    "        print('yay k means')\n",
    "        folder_name = 'clustering_faircal'\n",
    "    elif clustering_method == 'kmeans-fsn':\n",
    "        folder_name = 'clustering_fsn'\n",
    "    elif clustering_method == 'gmm-discrete':\n",
    "        folder_name = 'clustering_faircal-gmm'\n",
    "    else:\n",
    "        print('Please provide a valid clustering method.')  \n",
    "    filename = f'experiments/{folder_name}/{dataset}_{feature}_nclusters{str(n_clusters)}_fold{str(fold_nr)}'\n",
    "    results = np.load(f'{filename}.npy', allow_pickle=True).item()\n",
    "    return results\n"
   ]
  },
  {
   "cell_type": "markdown",
   "id": "3e4f8af2",
   "metadata": {},
   "source": [
    "### Example dataset-feature-cluster-fold-clustering technique combination with K-means"
   ]
  },
  {
   "cell_type": "code",
   "execution_count": 12,
   "id": "f00283c3",
   "metadata": {},
   "outputs": [
    {
     "name": "stdout",
     "output_type": "stream",
     "text": [
      "starting\n",
      "yay k means\n"
     ]
    }
   ],
   "source": [
    "dataset = 'bfw'\n",
    "feature = 'arcface'\n",
    "n_clusters = 100\n",
    "fold_nr = 1\n",
    "clustering_method = 'kmeans'\n",
    "\n",
    "img_array = load_clusters(dataset, feature, n_clusters, fold_nr, clustering_method)"
   ]
  },
  {
   "cell_type": "markdown",
   "id": "9e511dbe",
   "metadata": {},
   "source": [
    "### Loading the embeddings"
   ]
  },
  {
   "cell_type": "code",
   "execution_count": 13,
   "id": "9dc7df39",
   "metadata": {},
   "outputs": [],
   "source": [
    "def load_embeddings(dataset, feature):\n",
    "    embedding_data = pickle.load(open(f'embeddings/{feature}_{dataset}_embeddings.pk', 'rb'))\n",
    "    \n",
    "    return embedding_data"
   ]
  },
  {
   "cell_type": "code",
   "execution_count": 14,
   "id": "32479bb0",
   "metadata": {},
   "outputs": [],
   "source": [
    "embedding_data = load_embeddings(dataset, feature)"
   ]
  },
  {
   "cell_type": "markdown",
   "id": "7b6cb94a",
   "metadata": {},
   "source": [
    "### Predicting clusters"
   ]
  },
  {
   "cell_type": "code",
   "execution_count": 54,
   "id": "f1c6a5e5",
   "metadata": {
    "scrolled": false
   },
   "outputs": [],
   "source": [
    "# img_array.trainer_params['accelerator'] = None\n",
    "# img_array.trainer_params_user['accelerator'] = None\n",
    "\n",
    "# centroids = img_array.model_.centroids.numpy()\n",
    "# images = np.vstack(embedding_data['embedding'].to_numpy()).astype('double')\n",
    "# def predict(x, c): np.argmax([np.linalg.norm(x, c_) for c_ in c])\n",
    "\n",
    "# embedding_data['i_cluster'] = [predict(x, centroids) for x in np.vstack(embedding_data['embedding'].to_numpy()).astype('double')]\n",
    "\n",
    "embedding_data['i_cluster'] = img_array.predict(np.vstack(embedding_data['embedding'].to_numpy()).astype('double'))\n"
   ]
  },
  {
   "cell_type": "markdown",
   "id": "e2da17ef",
   "metadata": {},
   "source": [
    "### Storing information on what image paths belong to a each cluster"
   ]
  },
  {
   "cell_type": "code",
   "execution_count": null,
   "id": "214527da",
   "metadata": {},
   "outputs": [],
   "source": [
    "cluster_scores = {}\n",
    "\n",
    "for cluster_id in range(n_clusters):\n",
    "    cond = embedding_data['i_cluster'] == cluster_id\n",
    "    cluster_scores[str(cluster_id + 1)] = embedding_data['img_path'][cond].tolist()"
   ]
  },
  {
   "cell_type": "markdown",
   "id": "133e986f",
   "metadata": {},
   "source": [
    "### Visualising a sample cluster obtained by K-means"
   ]
  },
  {
   "cell_type": "code",
   "execution_count": null,
   "id": "acefd003",
   "metadata": {},
   "outputs": [],
   "source": [
    "def visualise_clusters(cluster_scores, start, stop, dataset, fold_nr, feature):\n",
    "    x_size = 10\n",
    "    y_size = 10\n",
    "    clusters_to_visualise = [x for x in range(start, stop)]\n",
    "\n",
    "    f, axarr = plt.subplots(x_size, y_size)\n",
    "\n",
    "    number_plotted_already = 0\n",
    "\n",
    "    for cluster_to_visualise in clusters_to_visualise:\n",
    "        number_plotted_already = 0\n",
    "        for x_axis in range(x_size):\n",
    "            for y_axis in range(y_size):\n",
    "                img_path = cluster_scores[str(cluster_to_visualise)][number_plotted_already]\n",
    "                image = mpimg.imread(img_path)\n",
    "                axarr[x_axis, y_axis].margins(x=0)\n",
    "                axarr[x_axis, y_axis].imshow(image)\n",
    "                axarr[x_axis, y_axis].margins(x=0)\n",
    "                axarr[x_axis, y_axis].axis('off')\n",
    "                number_plotted_already += 1\n",
    "\n",
    "        f.suptitle(f\"Cluster {cluster_to_visualise} \\n{dataset}, fold {fold_nr}, fitted on {feature}\")\n",
    "        f.savefig(f\"Cluster{cluster_to_visualise}.pdf\", bbox_inches = 'tigh\n",
    "  "
   ]
  },
  {
   "cell_type": "code",
   "execution_count": null,
   "id": "533beeba",
   "metadata": {},
   "outputs": [],
   "source": [
    "visualise_clusters(cluster_scores, 1, 5, dataset, fold_nr, feature)"
   ]
  },
  {
   "cell_type": "markdown",
   "id": "e5e54d0b",
   "metadata": {},
   "source": [
    "### Example dataset-feature-cluster-fold-clustering technique combination with GMMs"
   ]
  },
  {
   "cell_type": "code",
   "execution_count": null,
   "id": "3c171a80",
   "metadata": {},
   "outputs": [],
   "source": [
    "dataset = 'rfw'\n",
    "feature = 'facenet'\n",
    "n_clusters = 100\n",
    "fold_nr = 5\n",
    "clustering_method = 'gmm-discrete'\n",
    "\n",
    "img_array = load_clusters(dataset, feature, n_clusters, fold_nr, clust"
   ]
  },
  {
   "cell_type": "code",
   "execution_count": null,
   "id": "ab817807",
   "metadata": {},
   "outputs": [],
   "source": [
    "embedding_data = load_embeddings(dataset, feature)"
   ]
  },
  {
   "cell_type": "code",
   "execution_count": null,
   "id": "c25d31df",
   "metadata": {},
   "outputs": [],
   "source": [
    "embedding_data['i_cluster'] = img_array.predict(np.vstack(embedding_data['embedding'].to_numpy()).astype('double'))"
   ]
  },
  {
   "cell_type": "code",
   "execution_count": null,
   "id": "0aab7d30",
   "metadata": {},
   "outputs": [],
   "source": [
    "cluster_scores = {}\n",
    "\n",
    "for cluster_id in range(n_clusters):\n",
    "    cond = embedding_data['i_cluster'] == cluster_id\n",
    "    cluster_scores[str(cluster_id + 1)] = embedding_data['img_path'][cond].tolist()"
   ]
  },
  {
   "cell_type": "code",
   "execution_count": null,
   "id": "5eeda90d",
   "metadata": {},
   "outputs": [],
   "source": [
    "x_size = 10\n",
    "y_size = 10\n",
    "clusters_to_visualise = [x for x in range(1, 6)]\n",
    "\n",
    "f, axarr = plt.subplots(x_size, y_size)\n",
    "\n",
    "number_plotted_already = 0\n",
    "\n",
    "for cluster_to_visualise in clusters_to_visualise:\n",
    "    number_plotted_already = 0\n",
    "    for x_axis in range(x_size):\n",
    "        for y_axis in range(y_size):\n",
    "            img_path = cluster_scores[str(cluster_to_visualise)][number_plotted_already]\n",
    "            image = mpimg.imread(img_path)\n",
    "            axarr[x_axis, y_axis].margins(x=0)\n",
    "            axarr[x_axis, y_axis].imshow(image)\n",
    "            axarr[x_axis, y_axis].margins(x=0)\n",
    "            axarr[x_axis, y_axis].axis('off')\n",
    "            number_plotted_already += 1\n",
    "    \n",
    "    f.suptitle(f\"Cluster {cluster_to_visualise} \\n{dataset}, fold {fold_nr}, fitted on {feature}\")\n",
    "    f.savefig(f\"Cluster{cluster_to_visualise}.pdf\", bbox_inches = 'tigh\n",
    "        "
   ]
  },
  {
   "cell_type": "code",
   "execution_count": null,
   "id": "314f0462",
   "metadata": {},
   "outputs": [],
   "source": [
    "visualise_clusters(cluster_scores, 1, 5, dataset, fold_nr, feature)"
   ]
  },
  {
   "cell_type": "code",
   "execution_count": null,
   "id": "adaa2dc4",
   "metadata": {},
   "outputs": [],
   "source": []
  }
 ],
 "metadata": {
  "kernelspec": {
   "display_name": "Python 3 (ipykernel)",
   "language": "python",
   "name": "python3"
  },
  "language_info": {
   "codemirror_mode": {
    "name": "ipython",
    "version": 3
   },
   "file_extension": ".py",
   "mimetype": "text/x-python",
   "name": "python",
   "nbconvert_exporter": "python",
   "pygments_lexer": "ipython3",
   "version": "3.9.16"
  }
 },
 "nbformat": 4,
 "nbformat_minor": 5
}
